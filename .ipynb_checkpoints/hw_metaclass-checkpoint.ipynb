{
 "cells": [
  {
   "cell_type": "code",
   "execution_count": null,
   "id": "f33ffa6f",
   "metadata": {},
   "outputs": [],
   "source": [
    "from marshmallow import Schema, fields\n",
    "\n",
    "'''\n",
    " * Что полезного можно сделать в методе __init__ в метаклассе?\n",
    " * Возможно декоратор я использую не правильно уж как-то сильно глупо это ввыглядит. По сути все что делает декоратор это заворачивает создание класса ч/з метакласс. \n",
    "   С таким же успехом можно было просто добавить метакласс в поле наследования. Если мое решение не оптимально, то как сделать лучше?\n",
    " * КМК при подаче материала лучше начинать с практического примера и потом уже гнать всю теорию.\n",
    "   Показать пример с метаклассом и созданием таблицы в БД на лету, а потом уже рассказывать все что могут метаклассы.\n",
    "   Типа вот у нас есть стандартный прием при котором используются метаклассы, а еще можно то и это, а работет все вот так.\n",
    " * Используются ли метаклассы в тестировании? Кажется, что при помощи метаклассов можно на лету красиво формироват ClassObject/PageObject \n",
    "'''\n",
    "\n",
    "def detect_marshmallow_field_name(arg_filed_type):\n",
    "    for key, val in fields.__dict__.items():\n",
    "        if key.upper()==str(arg_filed_type)[8:-2].upper():\n",
    "            return key \n",
    "\n",
    "class MetaMeta(type):\n",
    "    def __init__(mcs, name, bases, classdict):\n",
    "        super().__init__(name, bases, classdict)\n",
    "    \n",
    "    def __new__(mcs, name, bases, classdict):\n",
    "        marshmallow_fields = {}\n",
    "        for key, val in bases[0].__dict__['__annotations__'].items():            \n",
    "            marshmallow_fields[key]=fields.__dict__[detect_marshmallow_field_name(val)](requered=False)\n",
    "        \n",
    "        classdict['schema'] = type(\"schema\", (Schema,), marshmallow_fields)\n",
    "        return super().__new__(mcs, name, bases, classdict)\n",
    "\n",
    "\n",
    "def class_decorator(cls):\n",
    "    class decorated_class(cls, metaclass=MetaMeta):\n",
    "        pass    \n",
    "    return decorated_class\n",
    "\n",
    "\n",
    "@class_decorator\n",
    "class hw_class():\n",
    "    name : str = \"User name\"\n",
    "    age : int = 24\n",
    "    gold_status : bool = False    \n",
    "\n",
    "print(\">>>> START\")\n",
    "print(hw_class)\n",
    "print(\"-------------\")\n",
    "print(hw_class.schema)\n",
    "print(\"-------------\")\n",
    "print(hw_class.schema.name)\n",
    "print(\"-------------\")\n",
    "print(hw_class.schema.age)\n",
    "print(\"-------------\")\n",
    "print(hw_class.schema.gold_status)\n",
    "print(\"<<<< END\")"
   ]
  }
 ],
 "metadata": {
  "kernelspec": {
   "display_name": "Python 3",
   "language": "python",
   "name": "python3"
  },
  "language_info": {
   "codemirror_mode": {
    "name": "ipython",
    "version": 3
   },
   "file_extension": ".py",
   "mimetype": "text/x-python",
   "name": "python",
   "nbconvert_exporter": "python",
   "pygments_lexer": "ipython3",
   "version": "3.8.8"
  }
 },
 "nbformat": 4,
 "nbformat_minor": 5
}
